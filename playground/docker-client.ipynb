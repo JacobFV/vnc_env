{
 "cells": [
  {
   "cell_type": "markdown",
   "metadata": {},
   "source": [
    "In bash do this\n",
    "```bash\n",
    "docker run --name ubvnc -p 6080:80 -p 5900:5900 -v /dev/shm:/dev/shm dorowu/ubuntu-desktop-lxde-vnc\n",
    "```\n",
    "\n",
    "You can view the vnc in the browser with js noVNC at port 6080 or connect over python/other vnc app at port 5900. \n",
    "\n",
    "More information:\n",
    "- https://stackoverflow.com/questions/40658095/how-to-open-ubuntu-gui-inside-a-docker-image\n",
    "- https://github.com/fcwu/docker-ubuntu-vnc-desktop"
   ]
  },
  {
   "cell_type": "code",
   "execution_count": 73,
   "metadata": {},
   "outputs": [],
   "source": [
    "import time\n",
    "import threading\n",
    "import random\n",
    "\n",
    "import numpy as np\n",
    "import matplotlib.pyplot as plt\n",
    "import matplotlib.animation as animation\n",
    "from IPython import display\n",
    "from ipywidgets import Video\n",
    "import pandas as pd\n",
    "import seaborn as sns\n",
    "\n",
    "from pyVNC.Client import Client\n",
    "from pyVNC import rfb, constants"
   ]
  },
  {
   "cell_type": "markdown",
   "metadata": {},
   "source": [
    "## Utils"
   ]
  },
  {
   "cell_type": "code",
   "execution_count": 2,
   "metadata": {},
   "outputs": [],
   "source": [
    "def move_mouse(vnc, x, y):\n",
    "    if x > vnc.screen.size[0]:\n",
    "        x = vnc.screen.size[0]\n",
    "    if y > vnc.screen.size[1]:\n",
    "        y = vnc.screen.size[1]\n",
    "    \n",
    "    vnc.screen.protocol.pointer_event(x, y, 0)"
   ]
  },
  {
   "cell_type": "code",
   "execution_count": 3,
   "metadata": {},
   "outputs": [
    {
     "data": {
      "application/vnd.jupyter.widget-view+json": {
       "model_id": "c0825ddb863d47f1a961797ec00e0b38",
       "version_major": 2,
       "version_minor": 0
      },
      "text/plain": [
       "Video(value=b'\\x00\\x00\\x00 ftypisom\\x00\\x00\\x02\\x00isomiso2avc1mp41\\x00\\x00\\x00\\x08free\\x00\\x14D}mdat\\x00\\x00\\…"
      ]
     },
     "metadata": {},
     "output_type": "display_data"
    },
    {
     "data": {
      "text/plain": [
       "<Figure size 432x288 with 0 Axes>"
      ]
     },
     "metadata": {},
     "output_type": "display_data"
    }
   ],
   "source": [
    "def make_animation(arr, name):\n",
    "    fig = plt.figure()\n",
    "    #plt.axis('off')\n",
    "    im = plt.imshow(arr[0], animated=True)\n",
    "    def updatefig(i):\n",
    "        if (i<99):\n",
    "            i += 1\n",
    "        else:\n",
    "            i = 0\n",
    "        im.set_array(arr[i])\n",
    "        return im,\n",
    "    ani = animation.FuncAnimation(fig, updatefig,  frames=arr.shape[0]-1, blit=True)\n",
    "    fname = 'recordings/{}.mp4'.format(name)\n",
    "    ani.save(fname)\n",
    "    plt.gcf().clear()\n",
    "    display.display(Video.from_file(fname))\n",
    "    \n",
    "arr = np.random.rand(30, 64, 64, 3)\n",
    "make_animation(arr, 'test')"
   ]
  },
  {
   "cell_type": "code",
   "execution_count": 7,
   "metadata": {},
   "outputs": [],
   "source": [
    "def auto_test(vnc, fn, num_frames=100):\n",
    "    frames = []\n",
    "    for i in range(num_frames):\n",
    "        frames.append(vnc.screen.get_array())\n",
    "        fn(vnc, i)\n",
    "    frames = np.array(frames)\n",
    "    make_animation(frames, fn.__name__)"
   ]
  },
  {
   "cell_type": "markdown",
   "metadata": {},
   "source": [
    "## 0.0.0\n",
    "\n",
    "Learned how to connect to the docker container with pyVNC and view the screen"
   ]
  },
  {
   "cell_type": "code",
   "execution_count": 2,
   "metadata": {},
   "outputs": [],
   "source": [
    "vnc = Client(host='127.0.0.1',\n",
    "             password=None,\n",
    "             port=5900,\n",
    "             depth=32,\n",
    "             fast=True,\n",
    "             shared=True)"
   ]
  },
  {
   "cell_type": "code",
   "execution_count": 3,
   "metadata": {},
   "outputs": [],
   "source": [
    "vnc.start()"
   ]
  },
  {
   "cell_type": "code",
   "execution_count": 5,
   "metadata": {},
   "outputs": [
    {
     "data": {
      "text/plain": [
       "False"
      ]
     },
     "execution_count": 5,
     "metadata": {},
     "output_type": "execute_result"
    }
   ],
   "source": [
    "vnc.has_gui"
   ]
  },
  {
   "cell_type": "code",
   "execution_count": 6,
   "metadata": {},
   "outputs": [
    {
     "data": {
      "text/plain": [
       "(5900, '127.0.0.1', None)"
      ]
     },
     "execution_count": 6,
     "metadata": {},
     "output_type": "execute_result"
    }
   ],
   "source": [
    "vnc.port, vnc.host, vnc.password"
   ]
  },
  {
   "cell_type": "code",
   "execution_count": 14,
   "metadata": {},
   "outputs": [
    {
     "data": {
      "text/plain": [
       "(768, 1024, 3)"
      ]
     },
     "execution_count": 14,
     "metadata": {},
     "output_type": "execute_result"
    }
   ],
   "source": [
    "s=vnc.screen # Get a array representation of the screen shape: (?, ?, 3)\n",
    "arr=s.get_array() # Get a numpy array representation of the screen shape: (?, ?, 3)\n",
    "arr.shape # (768, 1024, 3) for my connection"
   ]
  },
  {
   "cell_type": "code",
   "execution_count": 19,
   "metadata": {},
   "outputs": [],
   "source": [
    "vnc.send_key('k')"
   ]
  },
  {
   "cell_type": "code",
   "execution_count": 31,
   "metadata": {},
   "outputs": [
    {
     "data": {
      "text/plain": [
       "(1024, 768)"
      ]
     },
     "execution_count": 31,
     "metadata": {},
     "output_type": "execute_result"
    }
   ],
   "source": [
    "s.size"
   ]
  },
  {
   "cell_type": "code",
   "execution_count": 26,
   "metadata": {},
   "outputs": [
    {
     "data": {
      "text/plain": [
       "<matplotlib.image.AxesImage at 0x7f59b41c80a0>"
      ]
     },
     "execution_count": 26,
     "metadata": {},
     "output_type": "execute_result"
    },
    {
     "data": {
      "image/png": "[encoded data removed]",
      "text/plain": [
       "<Figure size 432x288 with 1 Axes>"
      ]
     },
     "metadata": {
      "needs_background": "light"
     },
     "output_type": "display_data"
    }
   ],
   "source": [
    "plt.imshow(vnc.screen.get_array())"
   ]
  },
  {
   "cell_type": "code",
   "execution_count": 25,
   "metadata": {},
   "outputs": [],
   "source": [
    "def move_mouse(vnc, x, y):\n",
    "    if x > vnc.screen.size[0]:\n",
    "        x = vnc.screen.size[0]\n",
    "    if y > vnc.screen.size[1]:\n",
    "        y = vnc.screen.size[1]\n",
    "    \n",
    "    vnc.screen.protocol.pointer_event(x, y, 0)\n",
    "\n",
    "move_mouse(vnc, 50, 50)"
   ]
  },
  {
   "cell_type": "code",
   "execution_count": null,
   "metadata": {},
   "outputs": [],
   "source": [
    "vnc.join()"
   ]
  },
  {
   "cell_type": "markdown",
   "metadata": {},
   "source": [
    "## 0.0.1\n",
    "\n",
    "Learned how to make the GUI appear for manual control. Does not work simultaneously with pyVNC API calls. "
   ]
  },
  {
   "cell_type": "code",
   "execution_count": 34,
   "metadata": {},
   "outputs": [],
   "source": [
    "vnc = Client(host='127.0.0.1',\n",
    "             password=None,\n",
    "             port=5900,\n",
    "             depth=32,\n",
    "             gui=True,\n",
    "             fast=True,\n",
    "             shared=True)"
   ]
  },
  {
   "cell_type": "code",
   "execution_count": 36,
   "metadata": {},
   "outputs": [
    {
     "data": {
      "text/plain": [
       "'Thread-6'"
      ]
     },
     "execution_count": 36,
     "metadata": {},
     "output_type": "execute_result"
    }
   ],
   "source": [
    "vnc.getName()"
   ]
  },
  {
   "cell_type": "code",
   "execution_count": 37,
   "metadata": {},
   "outputs": [
    {
     "name": "stderr",
     "output_type": "stream",
     "text": [
      "Exception in thread Thread-6:\n",
      "Traceback (most recent call last):\n",
      "  File \"/home/jacob/anaconda3/envs/ai/lib/python3.8/threading.py\", line 932, in _bootstrap_inner\n",
      "    self.run()\n",
      "  File \"/home/jacob/anaconda3/envs/ai/lib/python3.8/site-packages/pyVNC/Client.py\", line 105, in run\n",
      "    self.run_block()\n",
      "  File \"/home/jacob/anaconda3/envs/ai/lib/python3.8/site-packages/pyVNC/Client.py\", line 102, in run_block\n",
      "    reactor.run(installSignalHandlers=False)\n",
      "  File \"/home/jacob/anaconda3/envs/ai/lib/python3.8/site-packages/twisted/internet/base.py\", line 1282, in run\n",
      "    self.startRunning(installSignalHandlers=installSignalHandlers)\n",
      "  File \"/home/jacob/anaconda3/envs/ai/lib/python3.8/site-packages/twisted/internet/base.py\", line 1262, in startRunning\n",
      "    ReactorBase.startRunning(self)\n",
      "  File \"/home/jacob/anaconda3/envs/ai/lib/python3.8/site-packages/twisted/internet/base.py\", line 763, in startRunning\n",
      "    raise error.ReactorAlreadyRunning()\n",
      "twisted.internet.error.ReactorAlreadyRunning\n"
     ]
    },
    {
     "name": "stdout",
     "output_type": "stream",
     "text": [
      "115\n",
      "117\n",
      "100\n",
      "111\n",
      "32\n",
      "97\n",
      "112\n",
      "116\n",
      "32\n",
      "103\n"
     ]
    }
   ],
   "source": [
    "vnc.start()"
   ]
  },
  {
   "cell_type": "markdown",
   "metadata": {},
   "source": [
    "## 0.0.2\n",
    "\n",
    "Tested iteration speed of pyVNC API calls."
   ]
  },
  {
   "cell_type": "code",
   "execution_count": 5,
   "metadata": {},
   "outputs": [],
   "source": [
    "vnc = Client(host='127.0.0.1',\n",
    "             password=None,\n",
    "             port=5900,\n",
    "             depth=32,\n",
    "             gui=False,\n",
    "             fast=True,\n",
    "             shared=True)\n",
    "vnc.start()"
   ]
  },
  {
   "cell_type": "code",
   "execution_count": 6,
   "metadata": {},
   "outputs": [
    {
     "data": {
      "application/vnd.jupyter.widget-view+json": {
       "model_id": "95a89ccff2d24b91bfaa24fd87c350bc",
       "version_major": 2,
       "version_minor": 0
      },
      "text/plain": [
       "Video(value=b'\\x00\\x00\\x00 ftypisom\\x00\\x00\\x02\\x00isomiso2avc1mp41\\x00\\x00\\x00\\x08free\\x00\\x00N\\xdbmdat\\x00\\x…"
      ]
     },
     "metadata": {},
     "output_type": "display_data"
    },
    {
     "data": {
      "text/plain": [
       "<Figure size 432x288 with 0 Axes>"
      ]
     },
     "metadata": {},
     "output_type": "display_data"
    }
   ],
   "source": [
    "def move_mouse_auto(vnc, i):\n",
    "    move_mouse(vnc, 3*i, 2*i)\n",
    "\n",
    "auto_test(vnc, move_mouse_auto)"
   ]
  },
  {
   "cell_type": "code",
   "execution_count": 8,
   "metadata": {},
   "outputs": [
    {
     "data": {
      "application/vnd.jupyter.widget-view+json": {
       "model_id": "97c70a7745a6425b9bf89bd0971a7fc4",
       "version_major": 2,
       "version_minor": 0
      },
      "text/plain": [
       "Video(value=b'\\x00\\x00\\x00 ftypisom\\x00\\x00\\x02\\x00isomiso2avc1mp41\\x00\\x00\\x00\\x08free\\x00\\x00P\\x0bmdat\\x00\\x…"
      ]
     },
     "metadata": {},
     "output_type": "display_data"
    },
    {
     "data": {
      "text/plain": [
       "<Figure size 432x288 with 0 Axes>"
      ]
     },
     "metadata": {},
     "output_type": "display_data"
    },
    {
     "name": "stdout",
     "output_type": "stream",
     "text": [
      "Clipboard: b'ababababab'\n"
     ]
    }
   ],
   "source": [
    "def move_mouse_and_keypress(vnc, i):\n",
    "    move_mouse(vnc, 3*i, 2*i)\n",
    "    vnc.send_key('a' if i % 2 == 0 else 'b')\n",
    "\n",
    "auto_test(vnc, move_mouse_and_keypress)"
   ]
  },
  {
   "cell_type": "code",
   "execution_count": 53,
   "metadata": {},
   "outputs": [
    {
     "name": "stdout",
     "output_type": "stream",
     "text": [
      "Clipboard: b'\\n'\n"
     ]
    },
    {
     "data": {
      "application/vnd.jupyter.widget-view+json": {
       "model_id": "9b09217bdfd84cc99c178a821760b14e",
       "version_major": 2,
       "version_minor": 0
      },
      "text/plain": [
       "Video(value=b'\\x00\\x00\\x00 ftypisom\\x00\\x00\\x02\\x00isomiso2avc1mp41\\x00\\x00\\x00\\x08free\\x00\\x00S\\xcbmdat\\x00\\x…"
      ]
     },
     "metadata": {},
     "output_type": "display_data"
    },
    {
     "data": {
      "text/plain": [
       "<Figure size 432x288 with 0 Axes>"
      ]
     },
     "metadata": {},
     "output_type": "display_data"
    }
   ],
   "source": [
    "def test3(vnc, i):\n",
    "    vnc.send_key('k')\n",
    "    vnc.send_mouse('Left', (5*i, 4*i))\n",
    "\n",
    "auto_test(vnc, test3)"
   ]
  },
  {
   "cell_type": "code",
   "execution_count": 9,
   "metadata": {},
   "outputs": [
    {
     "name": "stdout",
     "output_type": "stream",
     "text": [
      "0: 266.166 266.166\n",
      "1: 522.076 255.91\n",
      "2: 693.887 171.811\n",
      "3: 728.297 34.41\n",
      "4: 757.428 29.131\n",
      "5: 784.993 27.565\n",
      "6: 811.84 26.847\n",
      "7: 839.097 27.257\n",
      "8: 867.178 28.081\n",
      "9: 893.969 26.791\n",
      "10: 920.683 26.714\n",
      "11: 948.284 27.601\n",
      "12: 974.883 26.599\n",
      "13: 1001.048 26.165\n",
      "14: 1054.544 53.496\n",
      "15: 1085.11 30.566\n",
      "16: 1111.985 26.875\n",
      "17: 1140.074 28.089\n",
      "18: 1166.779 26.705\n",
      "19: 1193.509 26.73\n",
      "20: 1220.339 26.83\n",
      "21: 1246.836 26.497\n",
      "22: 1274.431 27.595\n",
      "23: 1300.981 26.55\n",
      "24: 1327.093 26.112\n",
      "25: 1353.652 26.559\n",
      "26: 12490.509 11136.857\n",
      "27: 12582.467 91.958\n",
      "28: 12608.439 25.972\n",
      "29: 12630.514 22.075\n",
      "30: 12652.121 21.607\n",
      "31: 12673.497 21.376\n",
      "32: 12694.447 20.95\n",
      "33: 12715.42 20.973\n",
      "34: 12736.124 20.704\n",
      "35: 12757.366 21.242\n",
      "36: 12778.315 20.949\n",
      "37: 12798.837 20.522\n",
      "38: 12819.251 20.414\n",
      "39: 12843.335 24.084\n",
      "40: 12863.286 19.951\n",
      "41: 12881.672 18.386\n",
      "42: 12899.869 18.197\n",
      "43: 12919.132 19.263\n",
      "44: 13081.313 162.181\n",
      "45: 13108.867 27.554\n",
      "46: 13134.417 25.55\n",
      "47: 13158.172 23.755\n",
      "48: 13180.85 22.678\n",
      "49: 13370.322 189.472\n",
      "50: 13395.612 25.29\n",
      "51: 13417.478 21.866\n",
      "52: 13438.976 21.498\n",
      "53: 13459.814 20.838\n",
      "54: 13480.811 20.997\n",
      "55: 13522.619 41.808\n",
      "56: 13556.078 33.459\n",
      "57: 13592.185 36.107\n",
      "58: 13625.86 33.675\n",
      "59: 13658.405 32.545\n",
      "60: 13690.401 31.996\n",
      "61: 13722.06 31.659\n",
      "62: 13754.669 32.609\n",
      "63: 13786.919 32.25\n",
      "64: 13931.734 144.815\n",
      "65: 13970.106 38.372\n",
      "66: 14002.99 32.884\n",
      "67: 14035.896 32.906\n",
      "68: 14067.713 31.817\n",
      "69: 14099.898 32.185\n",
      "70: 14132.773 32.875\n",
      "71: 14165.337 32.564\n",
      "72: 14202.911 37.574\n",
      "73: 14298.375 95.464\n",
      "74: 14330.307 31.932\n",
      "75: 14353.088 22.781\n",
      "76: 14377.053 23.965\n",
      "77: 17955.277 3578.224\n",
      "78: 18000.443 45.166\n",
      "79: 18026.124 25.681\n",
      "80: 18050.477 24.353\n",
      "81: 18074.101 23.624\n",
      "82: 18095.777 21.676\n",
      "83: 18117.884 22.107\n",
      "84: 18140.326 22.442\n",
      "85: 18163.982 23.656\n",
      "86: 18187.858 23.876\n",
      "87: 18213.56 25.702\n",
      "88: 18235.832 22.272\n",
      "89: 18256.265 20.433\n",
      "90: 18275.461 19.196\n",
      "91: 18295.068 19.607\n",
      "92: 18314.858 19.79\n",
      "93: 18334.055 19.197\n",
      "94: 18354.174 20.119\n",
      "95: 43913.859 25559.685\n",
      "96: 43974.98 61.121\n",
      "97: 44005.051 30.071\n",
      "98: 44028.748 23.697\n",
      "99: 44052.195 23.447\n"
     ]
    },
    {
     "data": {
      "application/vnd.jupyter.widget-view+json": {
       "model_id": "93dcad0210bb447c8c6318e719ecd93b",
       "version_major": 2,
       "version_minor": 0
      },
      "text/plain": [
       "Video(value=b'\\x00\\x00\\x00 ftypisom\\x00\\x00\\x02\\x00isomiso2avc1mp41\\x00\\x00\\x00\\x08free\\x00\\x00O\\xaamdat\\x00\\x…"
      ]
     },
     "metadata": {},
     "output_type": "display_data"
    },
    {
     "data": {
      "text/plain": [
       "<Figure size 432x288 with 0 Axes>"
      ]
     },
     "metadata": {},
     "output_type": "display_data"
    }
   ],
   "source": [
    "start = time.time_ns()\n",
    "prev = start\n",
    "\n",
    "def timed_test(vnc, i):\n",
    "    global start, prev\n",
    "\n",
    "    move_mouse(vnc, 3*i, 2*i)\n",
    "\n",
    "    now = time.time_ns()\n",
    "    print('{}: {} {}'.format(i, (now - start)/1000, (now - prev)/1000))\n",
    "    prev = now\n",
    "\n",
    "auto_test(vnc, timed_test)"
   ]
  },
  {
   "cell_type": "code",
   "execution_count": 11,
   "metadata": {},
   "outputs": [
    {
     "data": {
      "text/plain": [
       "2270.0344443676418"
      ]
     },
     "execution_count": 11,
     "metadata": {},
     "output_type": "execute_result"
    }
   ],
   "source": [
    "seconds = 44052.195 / 1000 / 1000\n",
    "frames = 100\n",
    "fps = frames / seconds\n",
    "fps"
   ]
  },
  {
   "cell_type": "markdown",
   "metadata": {},
   "source": [
    "That's a good framerate for reinforcement learning. It'll probabbly be faster than the model, but still at a rate where asynchronous updates are relevant. I should also test:\n",
    "- more commands (mouse click, key press)\n",
    "- sparse commands (mouse click, key press)\n",
    "- larger display"
   ]
  },
  {
   "cell_type": "code",
   "execution_count": 12,
   "metadata": {},
   "outputs": [
    {
     "name": "stdout",
     "output_type": "stream",
     "text": [
      "0: 4657.227 4657.227\n",
      "1: 4799.026 141.799\n",
      "2: 4839.649 40.623\n",
      "3: 4875.5 35.851\n",
      "4: 4907.931 32.431\n",
      "5: 4940.711 32.78\n",
      "6: 4974.174 33.463\n",
      "7: 5004.335 30.161\n",
      "8: 5035.933 31.598\n",
      "9: 5069.068 33.135\n",
      "10: 7634.218 2565.15\n",
      "11: 7815.928 181.71\n",
      "12: 8555.448 739.52\n",
      "13: 11631.65 3076.202\n",
      "14: 12061.494 429.844\n",
      "15: 12726.43 664.936\n",
      "16: 51393.671 38667.241\n",
      "17: 51472.388 78.717\n",
      "18: 51502.762 30.374\n",
      "19: 51528.815 26.053\n",
      "20: 52680.257 1151.442\n",
      "21: 52846.809 166.552\n",
      "22: 52878.367 31.558\n",
      "23: 52904.263 25.896\n",
      "24: 53205.192 300.929\n",
      "25: 53241.425 36.233\n",
      "26: 53272.932 31.507\n",
      "27: 53303.846 30.914\n",
      "28: 53331.967 28.121\n",
      "29: 53360.489 28.522\n",
      "30: 54526.637 1166.148\n",
      "31: 54648.564 121.927\n",
      "32: 54692.235 43.671\n",
      "33: 54744.54 52.305\n",
      "34: 56101.887 1357.347\n",
      "35: 56175.657 73.77\n",
      "36: 56232.426 56.769\n",
      "37: 56288.19 55.764\n",
      "38: 56338.438 50.248\n",
      "39: 56389.473 51.035\n",
      "40: 56440.079 50.606\n",
      "41: 56489.343 49.264\n",
      "42: 56537.79 48.447\n",
      "43: 56573.009 35.219\n",
      "44: 56604.648 31.639\n",
      "45: 58342.898 1738.25\n",
      "46: 58477.692 134.794\n",
      "47: 58508.3 30.608\n",
      "48: 58534.456 26.156\n",
      "49: 58600.366 65.91\n",
      "50: 59000.679 400.313\n",
      "51: 59033.474 32.795\n",
      "52: 59057.627 24.153\n",
      "53: 59080.063 22.436\n",
      "54: 59101.113 21.05\n",
      "55: 59125.517 24.404\n",
      "56: 59147.861 22.344\n",
      "57: 59840.223 692.362\n",
      "58: 60375.463 535.24\n",
      "59: 60423.583 48.12\n",
      "60: 60448.416 24.833\n",
      "61: 60475.067 26.651\n",
      "62: 60496.703 21.636\n",
      "63: 60510.974 14.271\n",
      "64: 60524.078 13.104\n",
      "65: 60536.817 12.739\n",
      "66: 60549.619 12.802\n",
      "67: 60562.141 12.522\n",
      "68: 60575.702 13.561\n",
      "69: 60589.49 13.788\n",
      "70: 60602.494 13.004\n",
      "71: 60615.648 13.154\n",
      "72: 60633.178 17.53\n",
      "73: 60646.37 13.192\n",
      "74: 60659.176 12.806\n",
      "75: 60671.68 12.504\n",
      "76: 60684.951 13.271\n",
      "77: 60697.583 12.632\n",
      "78: 60710.067 12.484\n",
      "79: 60722.719 12.652\n",
      "80: 60735.973 13.254\n",
      "81: 60748.797 12.824\n",
      "82: 60761.411 12.614\n",
      "83: 60774.365 12.954\n",
      "84: 64579.895 3805.53\n",
      "85: 64661.54 81.645\n",
      "86: 64686.709 25.169\n",
      "87: 64708.557 21.848\n",
      "88: 64733.314 24.757\n",
      "89: 64760.992 27.678\n",
      "90: 64781.495 20.503\n",
      "91: 64803.383 21.888\n",
      "92: 64823.138 19.755\n",
      "93: 64843.755 20.617\n",
      "94: 64865.308 21.553\n",
      "95: 64887.77 22.462\n",
      "96: 64907.809 20.039\n",
      "97: 64928.725 20.916\n",
      "98: 64949.87 21.145\n",
      "99: 64971.211 21.341\n",
      "100: 64991.7 20.489\n",
      "101: 65013.633 21.933\n",
      "102: 65036.173 22.54\n",
      "103: 65058.308 22.135\n",
      "104: 65080.119 21.811\n",
      "105: 65100.391 20.272\n",
      "106: 65122.001 21.61\n",
      "107: 65144.249 22.248\n",
      "108: 65166.77 22.521\n",
      "109: 65205.771 39.001\n",
      "110: 65236.898 31.127\n",
      "111: 65268.925 32.027\n",
      "112: 65307.311 38.386\n",
      "113: 65349.509 42.198\n",
      "114: 65389.013 39.504\n",
      "115: 65508.215 119.202\n",
      "116: 65538.99 30.775\n",
      "117: 65565.377 26.387\n",
      "118: 65589.804 24.427\n",
      "119: 65613.677 23.873\n"
     ]
    },
    {
     "data": {
      "application/vnd.jupyter.widget-view+json": {
       "model_id": "5ea07a17485540b98362cfcfd0bacfb1",
       "version_major": 2,
       "version_minor": 0
      },
      "text/plain": [
       "Video(value=b'\\x00\\x00\\x00 ftypisom\\x00\\x00\\x02\\x00isomiso2avc1mp41\\x00\\x00\\x00\\x08free\\x00\\x00Y\\xaamdat\\x00\\x…"
      ]
     },
     "metadata": {},
     "output_type": "display_data"
    },
    {
     "name": "stdout",
     "output_type": "stream",
     "text": [
      "fps=1.828886986473872\n"
     ]
    },
    {
     "data": {
      "text/plain": [
       "<Figure size 432x288 with 0 Axes>"
      ]
     },
     "metadata": {},
     "output_type": "display_data"
    },
    {
     "name": "stderr",
     "output_type": "stream",
     "text": [
      "Unhandled Error\n",
      "Traceback (most recent call last):\n",
      "  File \"/home/jacob/anaconda3/envs/ai/lib/python3.8/site-packages/twisted/python/log.py\", line 103, in callWithLogger\n",
      "    return callWithContext({\"system\": lp}, func, *args, **kw)\n",
      "  File \"/home/jacob/anaconda3/envs/ai/lib/python3.8/site-packages/twisted/python/log.py\", line 86, in callWithContext\n",
      "    return context.call({ILogContext: newCtx}, func, *args, **kw)\n",
      "  File \"/home/jacob/anaconda3/envs/ai/lib/python3.8/site-packages/twisted/python/context.py\", line 122, in callWithContext\n",
      "    return self.currentContext().callWithContext(ctx, func, *args, **kw)\n",
      "  File \"/home/jacob/anaconda3/envs/ai/lib/python3.8/site-packages/twisted/python/context.py\", line 85, in callWithContext\n",
      "    return func(*args,**kw)\n",
      "--- <exception caught here> ---\n",
      "  File \"/home/jacob/anaconda3/envs/ai/lib/python3.8/site-packages/twisted/internet/posixbase.py\", line 614, in _doReadOrWrite\n",
      "    why = selectable.doRead()\n",
      "  File \"/home/jacob/anaconda3/envs/ai/lib/python3.8/site-packages/twisted/internet/tcp.py\", line 243, in doRead\n",
      "    return self._dataReceived(data)\n",
      "  File \"/home/jacob/anaconda3/envs/ai/lib/python3.8/site-packages/twisted/internet/tcp.py\", line 249, in _dataReceived\n",
      "    rval = self.protocol.dataReceived(data)\n",
      "  File \"/home/jacob/anaconda3/envs/ai/lib/python3.8/site-packages/pyVNC/rfb.py\", line 494, in dataReceived\n",
      "    self._handler()\n",
      "  File \"/home/jacob/anaconda3/envs/ai/lib/python3.8/site-packages/pyVNC/rfb.py\", line 504, in _handle_expected\n",
      "    self._expected_handler(block, *self._expected_args, **self._expected_kwargs)\n",
      "  File \"/home/jacob/anaconda3/envs/ai/lib/python3.8/site-packages/pyVNC/rfb.py\", line 270, in _handleDecodeCopyrect\n",
      "    self.copy_rectangle(srcx, srcy, x, y, width, height)\n",
      "  File \"/home/jacob/anaconda3/envs/ai/lib/python3.8/site-packages/pyVNC/RFBToGUI.py\", line 66, in copy_rectangle\n",
      "    self.canvas.blit(self.screen, (x, y), (srcx, srcy, width, height))\n",
      "builtins.AttributeError: 'RFBToGUI' object has no attribute 'screen'\n",
      "\n",
      "ERROR:root:Connection lost: \"'RFBToGUI' object has no attribute 'screen'\"\n",
      "ERROR:root:Attempting to reconnect\n"
     ]
    }
   ],
   "source": [
    "start = time.time_ns()\n",
    "prev = start\n",
    "\n",
    "def timed_test(vnc, i):\n",
    "    global start, prev\n",
    "\n",
    "    move_mouse(vnc, 3*i, 2*i)\n",
    "    if i == 10:\n",
    "        vnc.send_key('h')\n",
    "    if i == 20:\n",
    "        vnc.send_key('e')\n",
    "    if i == 30:\n",
    "        vnc.send_key('l')\n",
    "    if i == 45:\n",
    "        vnc.send_key('l')\n",
    "    if i == 84:\n",
    "        vnc.send_key('o')\n",
    "\n",
    "    now = time.time_ns()\n",
    "    print('{}: {} {}'.format(i, (now - start)/1000, (now - prev)/1000))\n",
    "    prev = now\n",
    "\n",
    "num_frames = 120\n",
    "auto_test(vnc, timed_test, num_frames=num_frames)\n",
    "print(f'fps={num_frames/((prev-start)/1e6)}')"
   ]
  },
  {
   "cell_type": "markdown",
   "metadata": {},
   "source": [
    "The VNC server can't keep up with\n",
    "- command speed\n",
    "- display size"
   ]
  },
  {
   "cell_type": "code",
   "execution_count": 14,
   "metadata": {},
   "outputs": [
    {
     "data": {
      "text/plain": [
       "-40"
      ]
     },
     "execution_count": 14,
     "metadata": {},
     "output_type": "execute_result"
    }
   ],
   "source": [
    "cmd = '14-54'\n",
    "for k in cmd:\n",
    "    vnc.send_key(k)\n",
    "eval(cmd)"
   ]
  },
  {
   "cell_type": "code",
   "execution_count": 26,
   "metadata": {},
   "outputs": [],
   "source": [
    "vnc.send_key(constants.K_BACKSPACE)\n",
    "vnc.send_key(constants.K_RETURN)"
   ]
  },
  {
   "cell_type": "markdown",
   "metadata": {},
   "source": [
    "## 0.0.3 Calculator Benchmark"
   ]
  },
  {
   "cell_type": "code",
   "execution_count": 35,
   "metadata": {},
   "outputs": [
    {
     "name": "stdout",
     "output_type": "stream",
     "text": [
      "cmd = -40\n"
     ]
    }
   ],
   "source": [
    "def calculator_benchmark(cmd, delay=1e-6):\n",
    "    times = []\n",
    "\n",
    "    cmds = list(cmd)\n",
    "    cmds.insert(0, constants.K_ESCAPE)\n",
    "    cmds.append(constants.K_RETURN)\n",
    "\n",
    "    for k in cmds:\n",
    "        vnc.send_key(k)\n",
    "\n",
    "        time.sleep(delay)\n",
    "        times.append(time.time_ns())\n",
    "    \n",
    "    print(f'cmd = {eval(cmd)}')\n",
    "\n",
    "    return pd.DataFrame(times)\n",
    "\n",
    "df = calculator_benchmark('14-54', 1e-5)"
   ]
  },
  {
   "cell_type": "code",
   "execution_count": 75,
   "metadata": {},
   "outputs": [
    {
     "name": "stdout",
     "output_type": "stream",
     "text": [
      "cmd = 11234567890\n",
      "cmd = -538602970\n",
      "cmd = 31234567890\n",
      "cmd = -619113245\n",
      "cmd = 41234567890\n",
      "cmd = -559983320\n",
      "cmd = 51234567890\n",
      "cmd = 664060441\n",
      "cmd = 69876543210\n"
     ]
    }
   ],
   "source": [
    "H = int(1e9)\n",
    "L = -H\n",
    "\n",
    "df = calculator_benchmark('11234567890', 1e-6)\n",
    "df = calculator_benchmark(f'{random.randint(L,H)}', 1e-6)\n",
    "df = calculator_benchmark('31234567890', 1e-6)\n",
    "df = calculator_benchmark(f'{random.randint(L,H)}', 1e-6)\n",
    "df = calculator_benchmark('41234567890', 1e-6)\n",
    "df = calculator_benchmark(f'{random.randint(L,H)}', 1e-6)\n",
    "df = calculator_benchmark('51234567890', 1e-6)\n",
    "df = calculator_benchmark(f'{random.randint(L,H)}', 1e-6)\n",
    "df = calculator_benchmark('69876543210', 1e-6)"
   ]
  },
  {
   "cell_type": "code",
   "execution_count": 76,
   "metadata": {},
   "outputs": [
    {
     "name": "stdout",
     "output_type": "stream",
     "text": [
      "cmd = 129217.77631578948\n"
     ]
    },
    {
     "data": {
      "text/html": [
       "<div>\n",
       "<style scoped>\n",
       "    .dataframe tbody tr th:only-of-type {\n",
       "        vertical-align: middle;\n",
       "    }\n",
       "\n",
       "    .dataframe tbody tr th {\n",
       "        vertical-align: top;\n",
       "    }\n",
       "\n",
       "    .dataframe thead th {\n",
       "        text-align: right;\n",
       "    }\n",
       "</style>\n",
       "<table border=\"1\" class=\"dataframe\">\n",
       "  <thead>\n",
       "    <tr style=\"text-align: right;\">\n",
       "      <th></th>\n",
       "      <th>0</th>\n",
       "    </tr>\n",
       "  </thead>\n",
       "  <tbody>\n",
       "    <tr>\n",
       "      <th>0</th>\n",
       "      <td>1635979621885544637</td>\n",
       "    </tr>\n",
       "    <tr>\n",
       "      <th>1</th>\n",
       "      <td>1635979621886777754</td>\n",
       "    </tr>\n",
       "    <tr>\n",
       "      <th>2</th>\n",
       "      <td>1635979621888264530</td>\n",
       "    </tr>\n",
       "    <tr>\n",
       "      <th>3</th>\n",
       "      <td>1635979621890412680</td>\n",
       "    </tr>\n",
       "    <tr>\n",
       "      <th>4</th>\n",
       "      <td>1635979621891910991</td>\n",
       "    </tr>\n",
       "    <tr>\n",
       "      <th>5</th>\n",
       "      <td>1635979621893397816</td>\n",
       "    </tr>\n",
       "    <tr>\n",
       "      <th>6</th>\n",
       "      <td>1635979621894911484</td>\n",
       "    </tr>\n",
       "    <tr>\n",
       "      <th>7</th>\n",
       "      <td>1635979621896325849</td>\n",
       "    </tr>\n",
       "    <tr>\n",
       "      <th>8</th>\n",
       "      <td>1635979621897749670</td>\n",
       "    </tr>\n",
       "    <tr>\n",
       "      <th>9</th>\n",
       "      <td>1635979621899172512</td>\n",
       "    </tr>\n",
       "    <tr>\n",
       "      <th>10</th>\n",
       "      <td>1635979621901036059</td>\n",
       "    </tr>\n",
       "    <tr>\n",
       "      <th>11</th>\n",
       "      <td>1635979621902484740</td>\n",
       "    </tr>\n",
       "    <tr>\n",
       "      <th>12</th>\n",
       "      <td>1635979621903717975</td>\n",
       "    </tr>\n",
       "    <tr>\n",
       "      <th>13</th>\n",
       "      <td>1635979621904910827</td>\n",
       "    </tr>\n",
       "    <tr>\n",
       "      <th>14</th>\n",
       "      <td>1635979621906699383</td>\n",
       "    </tr>\n",
       "    <tr>\n",
       "      <th>15</th>\n",
       "      <td>1635979621907947096</td>\n",
       "    </tr>\n",
       "    <tr>\n",
       "      <th>16</th>\n",
       "      <td>1635979621909252146</td>\n",
       "    </tr>\n",
       "    <tr>\n",
       "      <th>17</th>\n",
       "      <td>1635979621910555329</td>\n",
       "    </tr>\n",
       "    <tr>\n",
       "      <th>18</th>\n",
       "      <td>1635979621911742612</td>\n",
       "    </tr>\n",
       "    <tr>\n",
       "      <th>19</th>\n",
       "      <td>1635979621912954553</td>\n",
       "    </tr>\n",
       "    <tr>\n",
       "      <th>20</th>\n",
       "      <td>1635979621914218233</td>\n",
       "    </tr>\n",
       "    <tr>\n",
       "      <th>21</th>\n",
       "      <td>1635979621915587855</td>\n",
       "    </tr>\n",
       "    <tr>\n",
       "      <th>22</th>\n",
       "      <td>1635979621916891076</td>\n",
       "    </tr>\n",
       "    <tr>\n",
       "      <th>23</th>\n",
       "      <td>1635979621918216106</td>\n",
       "    </tr>\n",
       "    <tr>\n",
       "      <th>24</th>\n",
       "      <td>1635979621920637798</td>\n",
       "    </tr>\n",
       "    <tr>\n",
       "      <th>25</th>\n",
       "      <td>1635979621922048062</td>\n",
       "    </tr>\n",
       "  </tbody>\n",
       "</table>\n",
       "</div>"
      ],
      "text/plain": [
       "                      0\n",
       "0   1635979621885544637\n",
       "1   1635979621886777754\n",
       "2   1635979621888264530\n",
       "3   1635979621890412680\n",
       "4   1635979621891910991\n",
       "5   1635979621893397816\n",
       "6   1635979621894911484\n",
       "7   1635979621896325849\n",
       "8   1635979621897749670\n",
       "9   1635979621899172512\n",
       "10  1635979621901036059\n",
       "11  1635979621902484740\n",
       "12  1635979621903717975\n",
       "13  1635979621904910827\n",
       "14  1635979621906699383\n",
       "15  1635979621907947096\n",
       "16  1635979621909252146\n",
       "17  1635979621910555329\n",
       "18  1635979621911742612\n",
       "19  1635979621912954553\n",
       "20  1635979621914218233\n",
       "21  1635979621915587855\n",
       "22  1635979621916891076\n",
       "23  1635979621918216106\n",
       "24  1635979621920637798\n",
       "25  1635979621922048062"
      ]
     },
     "execution_count": 76,
     "metadata": {},
     "output_type": "execute_result"
    }
   ],
   "source": [
    "cmd = '123456-7890*123/456+7890'\n",
    "df = calculator_benchmark(cmd, 1e-5)\n",
    "df"
   ]
  }
 ],
 "metadata": {
  "interpreter": {
   "hash": "605fe966a75bc2c3dfa708e269323e6491854b30a36f4e77953579e94649bfba"
  },
  "kernelspec": {
   "display_name": "Python 3.8.8 64-bit ('ai': conda)",
   "name": "python3"
  },
  "language_info": {
   "codemirror_mode": {
    "name": "ipython",
    "version": 3
   },
   "file_extension": ".py",
   "mimetype": "text/x-python",
   "name": "python",
   "nbconvert_exporter": "python",
   "pygments_lexer": "ipython3",
   "version": "3.8.8"
  }
 },
 "nbformat": 4,
 "nbformat_minor": 4
}
